{
 "cells": [
  {
   "cell_type": "code",
   "execution_count": null,
   "metadata": {},
   "outputs": [],
   "source": [
    "from classifier import ManifoldClassifier\n",
    "import numpy as np\n",
    "import pandas as pd\n",
    "import utils\n",
    "import xarray as xr\n",
    "import matplotlib.pyplot as plt\n",
    "from core import Core, use_dim_type, analyze_dist_type, score_agg_type\n",
    "from component import ComponentGroups\n",
    "from sklearn.model_selection import train_test_split"
   ]
  },
  {
   "cell_type": "code",
   "execution_count": null,
   "metadata": {},
   "outputs": [],
   "source": [
    "data_AD = np.load(\"data/AD.npy\")\n",
    "data_NL = np.load(\"data/Normal.npy\")\n",
    "\n",
    "protein_coding_ID = pd.read_csv('data/protein_coding_ID.csv', index_col=0)\n",
    "protein_coding_indices = protein_coding_ID.index.to_numpy()\n",
    "\n",
    "X_np = np.concatenate([data_AD, data_NL], axis=0)\n",
    "y_np = np.concatenate([np.ones(len(data_AD), dtype=np.int8),\n",
    "                    np.zeros(len(data_NL), dtype=np.int8)], axis=0)\n",
    "\n",
    "X = xr.DataArray(X_np, dims=['person', 'gene', 'section'], coords={'person': np.arange(X_np.shape[0])})\n",
    "y = xr.DataArray(y_np, dims=['person'])\n",
    "\n",
    "print(X.shape, y.shape)"
   ]
  },
  {
   "cell_type": "code",
   "execution_count": null,
   "metadata": {},
   "outputs": [],
   "source": [
    "ManifoldClassifier.manifolds_cache = Core(data=X.values, dataType=\"all\").fit_manifolds()"
   ]
  },
  {
   "cell_type": "code",
   "execution_count": null,
   "metadata": {},
   "outputs": [],
   "source": [
    "n_clusters, n_genes = (4, 1), 5\n",
    "score_agg_method: score_agg_type = \"min\"\n",
    "dist_type: analyze_dist_type = \"default\"\n",
    "use_dim: use_dim_type = \"4D4D\"\n",
    "\n",
    "\n",
    "def feature_getter(cgs: ComponentGroups) -> np.ndarray:\n",
    "    return np.hstack([cgs.total_curvatures[:, None], cgs.areas[:, None]])\n",
    "\n",
    "def typical_analyzer(cgs: ComponentGroups, people: np.ndarray, attr_mean: np.ndarray):\n",
    "    total_curvature, mean_area = attr_mean\n",
    "    typical_person_index = np.argmin(\n",
    "        (cgs.total_curvatures[people] - total_curvature) ** 2\n",
    "        + (cgs.areas[people] - mean_area) ** 2\n",
    "    )\n",
    "    return people[typical_person_index]\n",
    "\n",
    "\n",
    "classifier = ManifoldClassifier(\n",
    "    use_dim=use_dim,\n",
    "    fit_manifold_config=dict(),\n",
    "    cluster_configs=[\n",
    "        dict(n_group=n_clusters[0], feature_getter=feature_getter),\n",
    "        dict(n_group=n_clusters[1], feature_getter=feature_getter)\n",
    "    ],\n",
    "    analyze_config=dict(top_k=n_genes,\n",
    "                        typical_analyzer=typical_analyzer,\n",
    "                        selectable_indices=protein_coding_indices),\n",
    "    classify_config=dict(score_agg_method=score_agg_method,\n",
    "                         dist_type=dist_type)\n",
    ")\n",
    "\n",
    "X_train, X_test, y_train, y_test = train_test_split(X, y, test_size=0.2, stratify=y, shuffle=True, random_state=0)\n",
    "classifier.fit(X_train, y_train)"
   ]
  },
  {
   "cell_type": "code",
   "execution_count": null,
   "metadata": {},
   "outputs": [],
   "source": [
    "utils.show_classification_result(y_train, classifier.predict_proba(X_train), names=['Normal', 'AD'])\n",
    "utils.show_classification_result(y_test, classifier.predict_proba(X_test), names=['Normal', 'AD'])"
   ]
  },
  {
   "cell_type": "code",
   "execution_count": null,
   "metadata": {},
   "outputs": [],
   "source": [
    "labels = ['Normal', 'AD']\n",
    "\n",
    "n1 = classifier.cluster_configs[0]['n_group']\n",
    "n2 = classifier.cluster_configs[1]['n_group']\n",
    "\n",
    "title = f'2 Class Classification Train Results for {labels[0]}/{labels[1]}'\n",
    "print(title)\n",
    "utils.show_classification_result(y_train, classifier.predict_proba(X_train), normalize='pred', names=labels)\n",
    "plt.suptitle(title)\n",
    "plt.show()\n",
    "\n",
    "title = f'2 Class Classification Test Results for {labels[0]}/{labels[1]}'\n",
    "print(title)\n",
    "utils.show_classification_result(y_test, classifier.predict_proba(X_test), normalize='pred', names=labels)\n",
    "plt.suptitle(title)\n",
    "plt.show()\n",
    "\n",
    "title = f'{n1+n2} Class Classification Results for AD/Normal'\n",
    "pred_scores = classifier.mixed_core.classify_with_typical(use_dim=use_dim, data=X_train.values, **classifier.classify_config)\n",
    "assert pred_scores.shape == (len(X_train), n1+n2)\n",
    "true_label = np.empty(len(X_train), dtype=np.int8)\n",
    "true_label[y_train==0] = np.array(classifier.cores[0].group_result.person2group)\n",
    "true_label[y_train==1] = np.array(classifier.cores[1].group_result.person2group) + n1\n",
    "print(title)\n",
    "utils.show_classification_result(true_label, pred_scores, normalize=None)\n",
    "plt.suptitle(title)\n",
    "\n",
    "plt.figure(figsize=(6, 2))\n",
    "class_counts = np.bincount(true_label)\n",
    "plt.bar(range(n1), class_counts[:n1], label=labels[0])\n",
    "plt.bar(range(n1, n1 + n2), class_counts[n1:], color='#896989',  label=labels[1])\n",
    "plt.xlabel('Class')\n",
    "plt.ylabel('Count')\n",
    "plt.title('Frequency of Each Class in true_label')\n",
    "plt.legend()\n",
    "plt.show()\n",
    "\n",
    "if n1 > 1:\n",
    "    title = f'{n1} Class Classification Results for {labels[0]}s'\n",
    "    pred_scores = classifier.cores[0].classify_with_typical(use_dim=use_dim, data=X_train[y_train==0].values, **classifier.classify_config)\n",
    "    true_label = np.array(classifier.cores[0].group_result.person2group)\n",
    "    utils.show_classification_result(true_label, pred_scores, normalize='pred')\n",
    "    plt.suptitle(title)\n",
    "\n",
    "    plt.figure(figsize=(3, 2))\n",
    "    utils.plot_bincount(true_label, title=f'Frequency of Each {labels[0]} Class', normalize=True)\n",
    "    plt.show()\n",
    "\n",
    "\n",
    "if n2 > 1:\n",
    "    title = f'{n2} Class Classification Results for {labels[1]}s'\n",
    "    pred_scores = classifier.cores[1].classify_with_typical(use_dim=use_dim, data=X_train[y_train==1].values, **classifier.classify_config)\n",
    "    true_label = np.array(classifier.cores[1].group_result.person2group)\n",
    "    utils.show_classification_result(true_label, pred_scores, normalize='pred')\n",
    "    plt.suptitle(title)\n",
    "\n",
    "    plt.figure(figsize=(3, 2))\n",
    "    utils.plot_bincount(true_label, title=f'Frequency of Each {labels[1]} Class', normalize=True)\n",
    "    plt.show()\n"
   ]
  },
  {
   "cell_type": "code",
   "execution_count": null,
   "metadata": {},
   "outputs": [],
   "source": [
    "print(\"Selected genes:\")\n",
    "classifier.fit(X, y)\n",
    "print(protein_coding_ID.loc[classifier.typical_indices])"
   ]
  }
 ],
 "metadata": {
  "kernelspec": {
   "display_name": "manifoldanalysis",
   "language": "python",
   "name": "python3"
  },
  "language_info": {
   "codemirror_mode": {
    "name": "ipython",
    "version": 3
   },
   "file_extension": ".py",
   "mimetype": "text/x-python",
   "name": "python",
   "nbconvert_exporter": "python",
   "pygments_lexer": "ipython3",
   "version": "3.13.1"
  }
 },
 "nbformat": 4,
 "nbformat_minor": 2
}
